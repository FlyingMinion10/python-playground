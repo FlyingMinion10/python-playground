{
  "nbformat": 4,
  "nbformat_minor": 0,
  "metadata": {
    "colab": {
      "provenance": []
    },
    "kernelspec": {
      "name": "python3",
      "display_name": "Python 3"
    },
    "language_info": {
      "name": "python"
    }
  },
  "cells": [
    {
      "cell_type": "code",
      "source": [
        "def cifrado_master(texto, clave, encriptar=True):\n",
        "    alfabeto = 'abcdefghijklmnopqrstuvwxyz'\n",
        "    resultado = ''\n",
        "\n",
        "    for letra in texto:\n",
        "        if letra.lower() in alfabeto:  # Solo encripta/desencripta letras\n",
        "            posicion = alfabeto.find(letra.lower())\n",
        "            if encriptar:\n",
        "                nueva_posicion = (posicion + clave) % 26\n",
        "            else:\n",
        "                nueva_posicion = (posicion - clave) % 26\n",
        "            resultado += alfabeto[nueva_posicion].upper() if letra.isupper() else alfabeto[nueva_posicion]\n",
        "        else:\n",
        "            resultado += letra\n",
        "    return resultado\n",
        "\n",
        "def main():\n",
        "    accion = input(\"¿Deseas encriptar o desencriptar? (e/d): \").lower()\n",
        "    texto = input(\"Introduce tu texto: \")\n",
        "    clave_estandar = int(input(\"Introduce la clave de encriptación estándar: \"))\n",
        "\n",
        "    palabras = texto.split()\n",
        "    texto_procesado = ''\n",
        "\n",
        "    for palabra in palabras:\n",
        "        clave = len(palabra) + clave_estandar\n",
        "        if accion == 'e':\n",
        "            palabra_procesada = cifrado_master(palabra, clave, encriptar=True)\n",
        "        else:\n",
        "            palabra_procesada = cifrado_master(palabra, clave, encriptar=False)\n",
        "        texto_procesado += palabra_procesada + ' '\n",
        "\n",
        "    print(\"Resultado:\", texto_procesado.strip())\n",
        "\n",
        "\n",
        "main()\n"
      ],
      "metadata": {
        "colab": {
          "base_uri": "https://localhost:8080/"
        },
        "id": "cnRHMjETtvDj",
        "outputId": "e4d15cb6-4402-4e11-8d69-5981c25b552f"
      },
      "execution_count": 18,
      "outputs": [
        {
          "output_type": "stream",
          "name": "stdout",
          "text": [
            "¿Deseas encriptar o desencriptar? (e/d): d\n",
            "Introduce tu texto: Xebq fjt ipa cdh mvdfj n aph 5 sb sz dvkif\n",
            "Introduce la clave de encriptación estándar: 12\n",
            "Resultado: Hola que tal nos vemos a las 5 en el metro\n"
          ]
        }
      ]
    },
    {
      "cell_type": "code",
      "source": [
        "def generar_tablero(palabra_clave):\n",
        "    \"\"\"Genera un tablero de cifrado a partir de una palabra clave.\"\"\"\n",
        "    alfabeto = \"ABCDEFGHIJKLMNOPQRSTUVWXYZ\"  # J se omite en el cifrado VIC\n",
        "    tabla = \"\"\n",
        "    palabra_clave = palabra_clave.upper()\n",
        "    for letra in palabra_clave:\n",
        "        if letra not in tabla and letra in alfabeto:\n",
        "            tabla += letra\n",
        "    for letra in alfabeto:\n",
        "        if letra not in tabla:\n",
        "            tabla += letra\n",
        "    return tabla\n",
        "\n",
        "def cifrar(mensaje, tabla):\n",
        "    \"\"\"Cifra el mensaje usando la tabla de cifrado.\"\"\"\n",
        "    mensaje = mensaje.upper()\n",
        "    cifrado = \"\"\n",
        "    for letra in mensaje:\n",
        "        if letra in tabla:\n",
        "            indice = tabla.find(letra)\n",
        "            cifrado += tabla[(indice + 5) % 25]  # Desplazamiento simple como ejemplo\n",
        "        else:\n",
        "            cifrado += letra\n",
        "    return cifrado\n",
        "\n",
        "def descifrar(mensaje, tabla):\n",
        "    \"\"\"Descifra el mensaje usando la tabla de cifrado.\"\"\"\n",
        "    descifrado = \"\"\n",
        "    for letra in mensaje:\n",
        "        if letra in tabla:\n",
        "            indice = tabla.find(letra)\n",
        "            descifrado += tabla[(indice - 5) % 25]  # Desplazamiento inverso\n",
        "        else:\n",
        "            descifrado += letra\n",
        "    return descifrado\n",
        "\n",
        "# Interfaz de usuario\n",
        "accion = input(\"¿Quieres encriptar o desencriptar? (E/D): \").strip().upper()\n",
        "palabra_clave = input(\"Ingresa la palabra clave: \").strip()\n",
        "mensaje = input(\"Ingresa la frase a procesar: \").strip()\n",
        "\n",
        "tabla = generar_tablero(palabra_clave)\n",
        "\n",
        "if accion == \"E\":\n",
        "    resultado = cifrar(mensaje, tabla)\n",
        "elif accion == \"D\":\n",
        "    resultado = descifrar(mensaje, tabla)\n",
        "else:\n",
        "    resultado = \"Opción no válida.\"\n",
        "\n",
        "print(\"Resultado:\", resultado)\n"
      ],
      "metadata": {
        "id": "-zCCLi9B8KTE"
      },
      "execution_count": null,
      "outputs": []
    }
  ]
}