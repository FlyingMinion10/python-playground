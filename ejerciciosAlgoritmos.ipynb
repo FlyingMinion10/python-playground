{
 "cells": [
  {
   "cell_type": "code",
   "execution_count": null,
   "metadata": {},
   "outputs": [],
   "source": [
    "print('Validacion de precios')\n",
    "precio = input('Introduce un precio: ')\n",
    "\n",
    "while precio.isnumeric() == False:\n",
    "    print('Por favor, introduce un precio valido')\n",
    "    precio = input('Introduce un precio: ')\n",
    "\n",
    "precio = int(precio)\n",
    "if precio > 0:\n",
    "    print('El precio es valido')\n",
    "else:\n",
    "    print('El precio no es valido')\n"
   ]
  },
  {
   "cell_type": "code",
   "execution_count": 6,
   "metadata": {},
   "outputs": [
    {
     "name": "stdout",
     "output_type": "stream",
     "text": [
      "CALCULADORA DE VELOCIDAD\n",
      "La velocidad es:  105.0 km/h\n"
     ]
    }
   ],
   "source": [
    "print('CALCULADORA DE VELOCIDAD')\n",
    "distancia = input('Introduce la distancia en kilometros: ')\n",
    "tiempo = input('Introduce el tiempo en horas: ')\n",
    "\n",
    "while distancia.isnumeric() == False or tiempo.isnumeric() == False:\n",
    "    print('Por favor, introduce un valor valido')\n",
    "    distancia = input('Introduce la distancia en kilometros: ')\n",
    "    tiempo = input('Introduce el tiempo en horas: ')\n",
    "\n",
    "distancia = float(distancia)\n",
    "tiempo = float(tiempo)\n",
    "\n",
    "if distancia > 0 and tiempo > 0:\n",
    "    velocidad = distancia / tiempo\n",
    "    print('La velocidad es: ', velocidad, 'km/h')\n"
   ]
  },
  {
   "cell_type": "code",
   "execution_count": 8,
   "metadata": {},
   "outputs": [
    {
     "name": "stdout",
     "output_type": "stream",
     "text": [
      "CALCULADORA DE CONVERSIONES\n",
      "La longitud en pies es:  75.46\n"
     ]
    }
   ],
   "source": [
    "print('CALCULADORA DE CONVERSIONES')\n",
    "metros = input('Introduce la longitud en metros: ')\n",
    "\n",
    "metros = float(metros)\n",
    "pies = (metros*100) / 30.48\n",
    "pies = round(pies, 2)\n",
    "\n",
    "print('La longitud en pies es: ', pies)"
   ]
  },
  {
   "cell_type": "code",
   "execution_count": null,
   "metadata": {},
   "outputs": [],
   "source": [
    "print('VERIFICADOR DE EDAD')\n",
    "edad = input('Introduce tu edad: ')\n",
    "\n",
    "while edad.isnumeric() == False:\n",
    "    print('Por favor, introduce un valor valido')\n",
    "    edad = input('Introduce tu edad: ')\n",
    "\n",
    "edad = int(edad)    \n",
    "if edad >= 18:\n",
    "    print('Eres mayor de edad')\n",
    "    print('Puedes obtener tu licencia de conducir')\n",
    "    id = input('Tienes identificacion oficial? (si/no): ')\n",
    "    if id == 'si':\n",
    "        print('Puedes obtener tu licencia')\n",
    "    else:\n",
    "        print('No puedes obtener tu licencia sin identificacion oficial')\n",
    "else:\n",
    "    print('Eres menor de edad vuelve cuando cumplas 18 :)')"
   ]
  }
 ],
 "metadata": {
  "kernelspec": {
   "display_name": "Python 3",
   "language": "python",
   "name": "python3"
  },
  "language_info": {
   "codemirror_mode": {
    "name": "ipython",
    "version": 3
   },
   "file_extension": ".py",
   "mimetype": "text/x-python",
   "name": "python",
   "nbconvert_exporter": "python",
   "pygments_lexer": "ipython3",
   "version": "3.10.13"
  }
 },
 "nbformat": 4,
 "nbformat_minor": 2
}
